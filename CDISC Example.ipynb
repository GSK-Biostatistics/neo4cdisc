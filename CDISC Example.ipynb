{
 "cells": [
  {
   "cell_type": "markdown",
   "id": "67149eaa",
   "metadata": {},
   "source": [
    "# Prerequisites"
   ]
  },
  {
   "cell_type": "markdown",
   "id": "5d5db90b",
   "metadata": {},
   "source": [
    "1) Using python 3.8 install requirements.txt in a virtual environment (run [installation.sh](installation.sh) on unix or [installation.bat](installation.bat) on windows)\n",
    "2) Have a Neo4j database with APOC and n10s libraries available. See [here](https://github.com/GSK-Biostatistics/neointerface) for introduction to Neo4j and [here](https://github.com/GSK-Biostatistics/neointerface/blob/main/Appendixes.md) for best ways to deploy it\n",
    "3) Set environment variables to enable connection to your neo4j database. The following are required:\n",
    "NEO4J_HOST, NEO4J_USER, NEO4J_PASSWORD, NEO4J_RDF_HOST  \n",
    "You may opt to populate the template in setenv.sh (on unix) or setenv.bat(on windwows) and run it.\n",
    "\n",
    "When the above is done you should be ready to run this notebook with an example."
   ]
  },
  {
   "cell_type": "code",
   "execution_count": 1,
   "id": "1d1e367f",
   "metadata": {},
   "outputs": [],
   "source": [
    "import os\n",
    "import time"
   ]
  },
  {
   "cell_type": "markdown",
   "id": "8ab6da30",
   "metadata": {},
   "source": [
    "# Loading CDISC metadata into Neo4j graph database\n",
    "Files SDTM_v1.4.csv, SDTMIG_v3.2.csv and CT2022Q1.csv stored in [cdisc_data](cdisc_data) folder have been downloaded from [CDISC Library](https://library.cdisc.org/browser).  \n",
    "CdiscStandardLoader class loads these metadata and creates links between entities.  \n",
    "On top of that it enriches this metadata with SDTM ontology information originating from [phuse-org repository](https://github.com/phuse-org/rdf.cdisc.org/blob/master/std/sdtm-1-3.ttl)."
   ]
  },
  {
   "cell_type": "code",
   "execution_count": 2,
   "id": "72e96af3",
   "metadata": {},
   "outputs": [
    {
     "name": "stderr",
     "output_type": "stream",
     "text": [
      "\u001b[37m2022-11-28 14:41:03,366    cld    INFO    -------------------------------   Loaded CLD Logger    -------------------------------\u001b[0m\n"
     ]
    },
    {
     "name": "stdout",
     "output_type": "stream",
     "text": [
      "---------------- Initializing NeoInterface -------------------\n",
      "Connection to neo4j://10.40.225.48:27687/ established\n",
      "Connection to http://10.40.225.48:27474/rdf/ established\n",
      " --- Deleting nodes with label: `Resource` ---\n",
      "Loading content\n",
      "Standards folder: cdisc_data\n",
      "Standards model: SDTM_v1.4.csv\n",
      "Standards Implementation Guide: SDTMIG_v3.2.csv\n",
      "Terminology file: CT2022Q1.csv\n",
      "---------------- Initializing NeoInterface -------------------\n",
      "Connection to neo4j://10.40.225.48:27687/ established\n",
      "Linking CDISC content\n",
      "CDISC Data Link Complete\n",
      "[{'terminationStatus': 'OK', 'triplesLoaded': 1778, 'triplesParsed': 1778, 'namespaces': None, 'extraInfo': '', 'callParams': {}}]\n",
      "SDTM TTL Loaded and Linked\n",
      "CDISC metadata loading and linked. You may browse it using Neo4j Browser: http://10.40.225.48:27474/\n"
     ]
    }
   ],
   "source": [
    "from cdisc_model_managers.cdisc_standard_loader import CdiscStandardLoader\n",
    "\n",
    "standards_folder = \"cdisc_data\"\n",
    "standards_model = \"SDTM_v1.4.csv\"\n",
    "standards_file = \"SDTMIG_v3.2.csv\"\n",
    "sdtm_terminology = \"CT2022Q1.csv\"\n",
    "\n",
    "csl = CdiscStandardLoader(    \n",
    "    standards_folder=standards_folder,\n",
    "    sdtm_file=standards_model, \n",
    "    sdtmig_file=standards_file, \n",
    "    terminology_file=sdtm_terminology    \n",
    ")\n",
    "\n",
    "csl.clean_slate()  # cleaning the database\n",
    "csl.load_standard()\n",
    "print (\"CDISC metadata loading and linked. \"\n",
    "       f\"You may browse it using Neo4j Browser: {os.getenv('NEO4J_HOST').replace('neo4j', 'http').replace('7687','7474')}\")"
   ]
  },
  {
   "cell_type": "markdown",
   "id": "c9a18baf",
   "metadata": {},
   "source": [
    "# Generating Clinical Linked Data(CLD) model from CDISC metadata\n",
    "In order to ingest data into a linked model using neo4cdisc/tab2neo packages, the graph must contain metadata in a certain form, in particular nodes with labels \"Class\" and \"Relationship\" must exist. The following step creates that metadata following certain logic using CDISC metadata uploaded in the setup before."
   ]
  },
  {
   "cell_type": "code",
   "execution_count": 3,
   "id": "3b4d7c49",
   "metadata": {},
   "outputs": [
    {
     "name": "stdout",
     "output_type": "stream",
     "text": [
      "---------------- Initializing NeoInterface -------------------\n",
      "Connection to neo4j://10.40.225.48:27687/ established\n",
      "---------------- <class 'model_managers.model_manager.ModelManager'> initialized -------------------\n",
      "Creating indexes on Class and Term\n",
      "Creating indexes on Source Data Table and Source Data Column\n",
      "Mapping Term GSK Codes and NCI Codes together\n",
      "Creating Classes from Dataset and ObservationClass\n",
      "Creating Class from Variable\n",
      "Creating Class from dataElement and Relationship from Variable\n",
      "Creating Class from SUPP domain Terms\n",
      "Creating Relationships based on SDTM ontology\n",
      "Creating additional Relationships based on business need\n",
      "Linking Result Qualifiers to Finding Topics\n",
      "Linking grouping classes to topics\n",
      "Linking Category to Sub-Category\n"
     ]
    }
   ],
   "source": [
    "from model_managers.model_manager import ModelManager\n",
    "mm = ModelManager()\n",
    "mm.generate_excel_based_model()"
   ]
  },
  {
   "cell_type": "markdown",
   "id": "6f35411f",
   "metadata": {},
   "source": [
    "# Downloading CDISC pilot study data\n",
    "In order to demonstrate clinical data ingestion into a graph we will download some data from [phuse-org repository](https://github.com/phuse-org/phuse-scripts/tree/master/data/sdtm/cdiscpilot01)  \n",
    "For demonstration purposes we will only load 2 domains, feel free to experiment loading other domains as well."
   ]
  },
  {
   "cell_type": "code",
   "execution_count": 4,
   "id": "845704d4",
   "metadata": {},
   "outputs": [
    {
     "name": "stdout",
     "output_type": "stream",
     "text": [
      "\n",
      "--------\n",
      "Getting domain: DM\n",
      "Download from url: https://github.com/phuse-org/phuse-scripts/raw/master/data/sdtm/cdiscpilot01/dm.xpt\n",
      "\n",
      "--------\n",
      "Getting domain: DS\n",
      "Download from url: https://github.com/phuse-org/phuse-scripts/raw/master/data/sdtm/cdiscpilot01/ds.xpt\n",
      "Done:  [{'folder': 'temp/data/sdtm/cdiscpilot01', 'file': 'dm.xpt'}, {'folder': 'temp/data/sdtm/cdiscpilot01', 'file': 'ds.xpt'}]\n"
     ]
    }
   ],
   "source": [
    "from utils.utils import get_cdisc_pilot_data\n",
    "domains = ['DM', 'DS']\n",
    "#domains = ['DM', 'EX', 'AE', 'LB', 'VS', 'DS']\n",
    "downloads = get_cdisc_pilot_data(domains)\n",
    "print(\"Done: \", downloads['ok'])\n",
    "if (downloads['error']):\n",
    "    print(\"Failed to download some files:\")\n",
    "    print(downloads['error'])"
   ]
  },
  {
   "cell_type": "markdown",
   "id": "258d88a5",
   "metadata": {},
   "source": [
    "# The next step is to load tabular data \"as is\" into the graph database\n",
    "For details on FileDataLoader [see](https://github.com/GSK-Biostatistics/tab2neo/tree/main/data_loaders)"
   ]
  },
  {
   "cell_type": "code",
   "execution_count": 5,
   "id": "76a03456",
   "metadata": {},
   "outputs": [
    {
     "name": "stdout",
     "output_type": "stream",
     "text": [
      "---------------- Initializing NeoInterface -------------------\n",
      "Connection to neo4j://10.40.225.48:27687/ established\n",
      "dm.xpt loaded\n",
      "ds.xpt loaded\n"
     ]
    }
   ],
   "source": [
    "from data_loaders.file_data_loader import FileDataLoader\n",
    "fdl = FileDataLoader()\n",
    "fdl.delete_source_data() #deleting the data in case it was already uploaded to the graph\n",
    "for download in downloads['ok']:\n",
    "    df = fdl.load_file(download['folder'], download['file'])\n",
    "    print(f\"{download['file']} loaded\")"
   ]
  },
  {
   "cell_type": "markdown",
   "id": "10950594",
   "metadata": {},
   "source": [
    "# Auto-mapping the data\n",
    "Now that the graph knows the data loaded, CLD will do its best to map it to graph automatically. In order to avoid confusion it will delete the Classes to which no data is mapped to."
   ]
  },
  {
   "cell_type": "code",
   "execution_count": 6,
   "id": "1d0814dc",
   "metadata": {},
   "outputs": [],
   "source": [
    "standard_label = os.path.basename(csl.sdtmig_file)\n",
    "mm.automap_excel_based_model(domain=domains, standard=standard_label)\n",
    "mm.remove_unmapped_classes()"
   ]
  },
  {
   "cell_type": "markdown",
   "id": "dee15096",
   "metadata": {},
   "source": [
    "# Applying graph model on the data(reshaping)\n"
   ]
  },
  {
   "cell_type": "code",
   "execution_count": 7,
   "id": "d6c4e76d",
   "metadata": {},
   "outputs": [
    {
     "name": "stdout",
     "output_type": "stream",
     "text": [
      "---------------- Initializing NeoInterface -------------------\n",
      "Connection to neo4j://10.40.225.48:27687/ established\n",
      " ------------------ Deleting reshaped instances ------------------\n",
      "[[{'total': 0, 'batches': 1, 'failedBatches': 0, 'failedOperations': 0}], [{'total': 0, 'batches': 1, 'failedBatches': 0, 'failedOperations': 0}]]\n",
      " ------ Refactoring loaded data per graph class_ definition.  EXECUTING PART 1 --------- \n",
      " ------ Refactoring loaded data per graph class_ definition.  EXECUTING PART 2 --------- \n",
      "    LOOPING OVER  38  entries in helper list:\n",
      "--------------- Creating IS_A relationship ----------------------\n",
      "[[{'total': 6567, 'batches': 7, 'failedBatches': 0, 'failedOperations': 0}]]\n",
      "--------------- Linking classes ----------------------\n",
      "[[{'total': 20019, 'batches': 21, 'failedBatches': 2, 'failedOperations': 1019}], [{'total': 486, 'batches': 1, 'failedBatches': 0, 'failedOperations': 0}]]\n",
      "[{'total': 387, 'batches': 1, 'failedBatches': 0, 'failedOperations': 0}]\n",
      "Reshaping done in: 18.30 seconds\n",
      "You may browse clinical data in a form of a graph using Neo4j Browser: http://10.40.225.48:27474/\n"
     ]
    }
   ],
   "source": [
    "from model_appliers.model_applier import ModelApplier\n",
    "ma = ModelApplier(mode=\"schema_CLASS\")\n",
    "ma.delete_reshaped(batch_size=10000) #deleting reshaped data in case it was reshaped previously\n",
    "\n",
    "start_time = time.time()\n",
    "ma.reshape_all()\n",
    "print(\n",
    "    f\"Reshaping done in: {(time.time() - start_time):.2f} seconds\\n\"\n",
    "    f\"You may browse clinical data in a form of a graph using Neo4j Browser\"\n",
    "    f\": {os.getenv('NEO4J_HOST').replace('neo4j', 'http').replace('7687','7474')}\"\n",
    ")"
   ]
  },
  {
   "cell_type": "markdown",
   "id": "54a28f25",
   "metadata": {},
   "source": [
    "# Clean-up"
   ]
  },
  {
   "cell_type": "code",
   "execution_count": 8,
   "id": "d83e0154",
   "metadata": {},
   "outputs": [
    {
     "name": "stdout",
     "output_type": "stream",
     "text": [
      "Copying Relationships to 'parent' Classes where (child)-[:SUBCLASS_OF]->(parent)\n",
      "Removing auxilary term labels\n",
      "Done\n"
     ]
    }
   ],
   "source": [
    "# #In order to enable Methods to work with already existing Relationships (btw parent and a child's neighbour)\n",
    "# #created during refactoring, we explicitly create Relationship nodes\n",
    "mm.propagate_rels_to_parent_class()\n",
    "# labels from the domains that were not loaded may be confusing\n",
    "print(\"Removing auxilary term labels\")\n",
    "mm.remove_auxilary_term_labels()\n",
    "print(\"Done\")"
   ]
  },
  {
   "cell_type": "markdown",
   "id": "fbc17478",
   "metadata": {},
   "source": [
    "# Checking reshaping worked as expected\n",
    "Not that the data is in the form of a graph we can further use CLD modules to wrangle and query it.  \n",
    "DataProvider enables a python interface to query the data from the model without a need to write Cypher qeuries:"
   ]
  },
  {
   "cell_type": "code",
   "execution_count": 9,
   "id": "5c7208bc",
   "metadata": {},
   "outputs": [
    {
     "name": "stdout",
     "output_type": "stream",
     "text": [
      "---------------- Initializing NeoInterface -------------------\n",
      "Connection to neo4j://10.40.225.48:27687/ established\n",
      "---------------- <class 'model_managers.model_manager.ModelManager'> initialized -------------------\n",
      "---------------- Initializing NeoInterface -------------------\n",
      "Connection to neo4j://10.40.225.48:27687/ established\n",
      "---------------- <class 'data_providers.data_provider.DataProvider'> initialized -------------------\n"
     ]
    },
    {
     "name": "stderr",
     "output_type": "stream",
     "text": [
      "\u001b[37m2022-11-28 14:41:55,475    cld    INFO    QUERY: MATCH (`DS`:`Disposition`),\n",
      "(`USUBJID`:`Subject`),\n",
      "(`DSDECOD`:`Dictionary-Derived Term`),\n",
      "(`DSSTDTC`:`Start Date/Time of Observation`),\n",
      "(`DS`)-[`DS_Dictionary-Derived Term_DSDECOD`:`Dictionary-Derived Term`]->(`DSDECOD`),\n",
      "(`DS`)-[`DS_Start Date/Time of Observation_DSSTDTC`:`Start Date/Time of Observation`]->(`DSSTDTC`),\n",
      "(`DS`)-[`DS_Subject_USUBJID`:`Subject`]->(`USUBJID`)\n",
      "WHERE `DSDECOD`.`rdfs:label` = $par_1\n",
      "\n",
      "\n",
      "RETURN apoc.map.mergeList([apoc.map.fromPairs([key in keys(CASE WHEN `USUBJID`{.*} IS NULL THEN {} ELSE `USUBJID`{.*} END) | [\"USUBJID\", CASE WHEN `USUBJID`{.*} IS NULL THEN {} ELSE `USUBJID`{.*} END[key]]])\n",
      ", apoc.map.fromPairs([key in keys(CASE WHEN `DS`{.*} IS NULL THEN {} ELSE `DS`{.*} END) | [\"DS\", CASE WHEN `DS`{.*} IS NULL THEN {} ELSE `DS`{.*} END[key]]])\n",
      ", apoc.map.fromPairs([key in keys(CASE WHEN `DSDECOD`{.*} IS NULL THEN {} ELSE `DSDECOD`{.*} END) | [\"DSDECOD\", CASE WHEN `DSDECOD`{.*} IS NULL THEN {} ELSE `DSDECOD`{.*} END[key]]])\n",
      ", apoc.map.fromPairs([key in keys(CASE WHEN `DSSTDTC`{.*} IS NULL THEN {} ELSE `DSSTDTC`{.*} END) | [\"DSSTDTC\", CASE WHEN `DSSTDTC`{.*} IS NULL THEN {} ELSE `DSSTDTC`{.*} END[key]]])]) as all\u001b[0m\n",
      "\u001b[37m2022-11-28 14:41:55,476    cld    INFO    PARAMS: {'par_1': 'COMPLETED'}\u001b[0m\n"
     ]
    },
    {
     "data": {
      "text/html": [
       "<div>\n",
       "<style scoped>\n",
       "    .dataframe tbody tr th:only-of-type {\n",
       "        vertical-align: middle;\n",
       "    }\n",
       "\n",
       "    .dataframe tbody tr th {\n",
       "        vertical-align: top;\n",
       "    }\n",
       "\n",
       "    .dataframe thead th {\n",
       "        text-align: right;\n",
       "    }\n",
       "</style>\n",
       "<table border=\"1\" class=\"dataframe\">\n",
       "  <thead>\n",
       "    <tr style=\"text-align: right;\">\n",
       "      <th></th>\n",
       "      <th>DSDECOD</th>\n",
       "      <th>DSSTDTC</th>\n",
       "      <th>USUBJID</th>\n",
       "    </tr>\n",
       "  </thead>\n",
       "  <tbody>\n",
       "    <tr>\n",
       "      <th>0</th>\n",
       "      <td>COMPLETED</td>\n",
       "      <td>2014-09-09</td>\n",
       "      <td>01-701-1118</td>\n",
       "    </tr>\n",
       "    <tr>\n",
       "      <th>1</th>\n",
       "      <td>COMPLETED</td>\n",
       "      <td>2014-07-28</td>\n",
       "      <td>01-713-1269</td>\n",
       "    </tr>\n",
       "    <tr>\n",
       "      <th>2</th>\n",
       "      <td>COMPLETED</td>\n",
       "      <td>2013-07-12</td>\n",
       "      <td>01-710-1408</td>\n",
       "    </tr>\n",
       "    <tr>\n",
       "      <th>3</th>\n",
       "      <td>COMPLETED</td>\n",
       "      <td>2014-07-28</td>\n",
       "      <td>01-717-1109</td>\n",
       "    </tr>\n",
       "    <tr>\n",
       "      <th>4</th>\n",
       "      <td>COMPLETED</td>\n",
       "      <td>2013-11-11</td>\n",
       "      <td>01-708-1084</td>\n",
       "    </tr>\n",
       "    <tr>\n",
       "      <th>...</th>\n",
       "      <td>...</td>\n",
       "      <td>...</td>\n",
       "      <td>...</td>\n",
       "    </tr>\n",
       "    <tr>\n",
       "      <th>105</th>\n",
       "      <td>COMPLETED</td>\n",
       "      <td>2013-05-27</td>\n",
       "      <td>01-704-1218</td>\n",
       "    </tr>\n",
       "    <tr>\n",
       "      <th>106</th>\n",
       "      <td>COMPLETED</td>\n",
       "      <td>2014-04-18</td>\n",
       "      <td>01-704-1351</td>\n",
       "    </tr>\n",
       "    <tr>\n",
       "      <th>107</th>\n",
       "      <td>COMPLETED</td>\n",
       "      <td>2013-11-05</td>\n",
       "      <td>01-708-1253</td>\n",
       "    </tr>\n",
       "    <tr>\n",
       "      <th>108</th>\n",
       "      <td>COMPLETED</td>\n",
       "      <td>2013-05-01</td>\n",
       "      <td>01-710-1354</td>\n",
       "    </tr>\n",
       "    <tr>\n",
       "      <th>109</th>\n",
       "      <td>COMPLETED</td>\n",
       "      <td>2013-06-19</td>\n",
       "      <td>01-704-1388</td>\n",
       "    </tr>\n",
       "  </tbody>\n",
       "</table>\n",
       "<p>110 rows × 3 columns</p>\n",
       "</div>"
      ],
      "text/plain": [
       "       DSDECOD     DSSTDTC      USUBJID\n",
       "0    COMPLETED  2014-09-09  01-701-1118\n",
       "1    COMPLETED  2014-07-28  01-713-1269\n",
       "2    COMPLETED  2013-07-12  01-710-1408\n",
       "3    COMPLETED  2014-07-28  01-717-1109\n",
       "4    COMPLETED  2013-11-11  01-708-1084\n",
       "..         ...         ...          ...\n",
       "105  COMPLETED  2013-05-27  01-704-1218\n",
       "106  COMPLETED  2014-04-18  01-704-1351\n",
       "107  COMPLETED  2013-11-05  01-708-1253\n",
       "108  COMPLETED  2013-05-01  01-710-1354\n",
       "109  COMPLETED  2013-06-19  01-704-1388\n",
       "\n",
       "[110 rows x 3 columns]"
      ]
     },
     "execution_count": 9,
     "metadata": {},
     "output_type": "execute_result"
    }
   ],
   "source": [
    "from data_providers.data_provider import DataProvider\n",
    "dp = DataProvider()\n",
    "df = dp.get_data_generic(\n",
    "    labels=['Subject', 'Disposition', 'Dictionary-Derived Term', 'Start Date/Time of Observation'], #entities\n",
    "    where_map={'Dictionary-Derived Term': {'rdfs:label':'COMPLETED'}}, #where condition\n",
    "    infer_rels=True,\n",
    "    return_nodeid=False,\n",
    "    use_shortlabel=True,\n",
    "    use_rel_labels=True,\n",
    "    return_propname=False\n",
    ")\n",
    "assert not(df.empty)\n",
    "df"
   ]
  },
  {
   "cell_type": "markdown",
   "id": "13818a36",
   "metadata": {},
   "source": [
    "# What else can we do with a graph?\n",
    "There are plenty of useful applications of clinical data along with its metadata in a graph.  \n",
    "For example we can query where the loaded data is not compliant with the controlled terminology loaded. For that we will run a Cypher query to the database:"
   ]
  },
  {
   "cell_type": "code",
   "execution_count": 10,
   "id": "6cf99648",
   "metadata": {},
   "outputs": [
    {
     "data": {
      "text/plain": [
       "[{'c': {'short_label': '--DECOD',\n",
       "   'count': 12,\n",
       "   'create': False,\n",
       "   'label': 'Dictionary-Derived Term'},\n",
       "  'instance': {'rdfs:label': 'FINAL RETRIEVAL VISIT'}},\n",
       " {'c': {'short_label': '--DECOD',\n",
       "   'count': 12,\n",
       "   'create': False,\n",
       "   'label': 'Dictionary-Derived Term'},\n",
       "  'instance': {'rdfs:label': 'FINAL LAB VISIT'}}]"
      ]
     },
     "execution_count": 10,
     "metadata": {},
     "output_type": "execute_result"
    }
   ],
   "source": [
    "dp.query(\"\"\"\n",
    "MATCH (c:Class)<-[:IS_A]-(instance)\n",
    "WHERE (c)-[:HAS_CONTROLLED_TERM]->(:Term)\n",
    "AND NOT (c)-[:HAS_CONTROLLED_TERM]->(:Term)<-[:Term]-(instance)\n",
    "RETURN *\n",
    "\"\"\")"
   ]
  },
  {
   "cell_type": "markdown",
   "id": "7e852ceb",
   "metadata": {},
   "source": [
    "We can see from the result of the query above that terms 'FINAL LAB VISIT' and 'FINAL RETRIEVAL VISIT' where not part of the metadata (CT2022Q1.csv) but are present in the data"
   ]
  }
 ],
 "metadata": {
  "kernelspec": {
   "display_name": "Python 3 (ipykernel)",
   "language": "python",
   "name": "python3"
  },
  "language_info": {
   "codemirror_mode": {
    "name": "ipython",
    "version": 3
   },
   "file_extension": ".py",
   "mimetype": "text/x-python",
   "name": "python",
   "nbconvert_exporter": "python",
   "pygments_lexer": "ipython3",
   "version": "3.8.15"
  }
 },
 "nbformat": 4,
 "nbformat_minor": 5
}
