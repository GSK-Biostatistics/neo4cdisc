{
 "cells": [
  {
   "cell_type": "markdown",
   "id": "67149eaa",
   "metadata": {},
   "source": [
    "# Prerequisites"
   ]
  },
  {
   "cell_type": "markdown",
   "id": "5d5db90b",
   "metadata": {},
   "source": [
    "1) Using python 3.8 install requirements.txt in a virtual environment (run [installation.sh](installation.sh) on unix or [installation.bat](installation.bat) on windows)\n",
    "2) Have a Neo4j database with APOC and n10s libraries available. See [here](https://github.com/GSK-Biostatistics/neointerface) for introduction to Neo4j and [here](https://github.com/GSK-Biostatistics/neointerface/blob/main/Appendixes.md) for best ways to deploy it\n",
    "3) Set environment variables to enable connection to your neo4j database. The following are required:\n",
    "NEO4J_HOST, NEO4J_USER, NEO4J_PASSWORD, NEO4J_RDF_HOST  \n",
    "You may opt to populate the template in setenv.sh (on unix) or setenv.bat(on windwows) and run it. Remember not to push any of your credentials to GitHub.  \n",
    "4) Set environment variable to enable connection to CDISC API: CDISC_LIB_KEY (you can obtain the key from your profile after setting up and account on CDISC Library: https://api.developer.library.cdisc.org/profile)  \n",
    "\n",
    "When the above is done you should be ready to run this notebook with an example."
   ]
  },
  {
   "cell_type": "code",
   "execution_count": 1,
   "id": "1d1e367f",
   "metadata": {},
   "outputs": [],
   "source": [
    "import os\n",
    "import time"
   ]
  },
  {
   "cell_type": "markdown",
   "id": "6f35411f",
   "metadata": {},
   "source": [
    "# Downloading CDISC pilot study data\n",
    "In order to demonstrate clinical data ingestion into a graph we will download some data from [phuse-org repository](https://github.com/phuse-org/phuse-scripts/tree/master/data/sdtm/cdiscpilot01)  \n",
    "For demonstration purposes we will only load 2 domains, feel free to experiment loading other domains as well."
   ]
  },
  {
   "cell_type": "code",
   "execution_count": 2,
   "id": "845704d4",
   "metadata": {},
   "outputs": [
    {
     "name": "stdout",
     "output_type": "stream",
     "text": [
      "\n",
      "--------\n",
      "Getting domain: DM\n",
      "Download from url: https://github.com/phuse-org/phuse-scripts/raw/master/data/sdtm/cdiscpilot01/dm.xpt\n",
      "\n",
      "--------\n",
      "Getting domain: DS\n",
      "Download from url: https://github.com/phuse-org/phuse-scripts/raw/master/data/sdtm/cdiscpilot01/ds.xpt\n",
      "Done:  [{'folder': 'temp/data/sdtm/cdiscpilot01', 'file': 'dm.xpt'}, {'folder': 'temp/data/sdtm/cdiscpilot01', 'file': 'ds.xpt'}]\n"
     ]
    }
   ],
   "source": [
    "from utils.utils import get_cdisc_pilot_data\n",
    "domains = ['DM', 'DS']\n",
    "#domains = ['DM', 'EX', 'AE', 'LB', 'VS', 'DS']\n",
    "downloads = get_cdisc_pilot_data(domains)\n",
    "print(\"Done: \", downloads['ok'])\n",
    "if (downloads['error']):\n",
    "    print(\"Failed to download some files:\")\n",
    "    print(downloads['error'])"
   ]
  },
  {
   "cell_type": "markdown",
   "id": "258d88a5",
   "metadata": {},
   "source": [
    "# The next step is to load tabular data \"as is\" into the graph database\n",
    "For details on FileDataLoader [see](https://github.com/GSK-Biostatistics/tab2neo/tree/main/data_loaders)"
   ]
  },
  {
   "cell_type": "code",
   "execution_count": 3,
   "id": "76a03456",
   "metadata": {},
   "outputs": [
    {
     "name": "stdout",
     "output_type": "stream",
     "text": [
      "---------------- Initializing NeoInterface -------------------\n",
      "Connection to bolt://localhost:27687 established\n",
      " --- Deleting all nodes in the database ---\n",
      "dm.xpt loaded\n",
      "ds.xpt loaded\n"
     ]
    }
   ],
   "source": [
    "from data_loaders.file_data_loader import FileDataLoader\n",
    "fdl = FileDataLoader()\n",
    "fdl.clean_slate()\n",
    "for download in downloads['ok']:\n",
    "    df = fdl.load_file(download['folder'], download['file'])\n",
    "    print(f\"{download['file']} loaded\")"
   ]
  },
  {
   "cell_type": "markdown",
   "id": "2e7ebff8",
   "metadata": {},
   "source": [
    "# Creating Class-Relationship model from data"
   ]
  },
  {
   "cell_type": "code",
   "execution_count": 4,
   "id": "4ca603ad",
   "metadata": {},
   "outputs": [
    {
     "name": "stdout",
     "output_type": "stream",
     "text": [
      "---------------- Initializing NeoInterface -------------------\n",
      "Connection to bolt://localhost:27687 established\n",
      "---------------- <class 'model_managers.model_manager.ModelManager'> initialized -------------------\n"
     ]
    }
   ],
   "source": [
    "from model_managers.model_manager import ModelManager\n",
    "mm = ModelManager()\n",
    "mm.create_model_from_data()"
   ]
  },
  {
   "cell_type": "markdown",
   "id": "7b044346",
   "metadata": {},
   "source": [
    "# Enriching model from data with CDISC labels and higher-level classes\n",
    "## Using CDISC API to load metadata into neo4j "
   ]
  },
  {
   "cell_type": "code",
   "execution_count": 5,
   "id": "933df19c",
   "metadata": {},
   "outputs": [
    {
     "name": "stderr",
     "output_type": "stream",
     "text": [
      "\u001b[37m2022-12-18 13:01:07,959    cld    INFO    -------------------------------   Loaded CLD Logger    -------------------------------\u001b[0m\n"
     ]
    },
    {
     "name": "stdout",
     "output_type": "stream",
     "text": [
      "Loading and unpacking /mdr/sdtm/2-0 into Neo4j with root node SDTM Model\n",
      "Loading and unpacking /mdr/sdtmig/3-4 into Neo4j with root node SDTM IG\n"
     ]
    }
   ],
   "source": [
    "from cdisc_model_managers.cdisc_api import CDISCAPI\n",
    "\n",
    "cdiscapi = CDISCAPI()\n",
    "#res = cdiscapi.query(\"/mdr/products\")\n",
    "\n",
    "#loading sdtm model\n",
    "model_href = \"/mdr/sdtm/2-0\"\n",
    "model_label = \"SDTM Model\"\n",
    "sdtm_model = cdiscapi.query(model_href)\n",
    "sdtm_model['href'] = model_href\n",
    "mm.query(f\"MATCH (root:`{model_label}`)-[*1..3]->(x) DETACH DELETE x, root\") #cleanup\n",
    "print(f\"Loading and unpacking {model_href} into Neo4j with root node {model_label}\")\n",
    "mm.load_dict(sdtm_model, label=model_label,  maxdepth=3)\n",
    "\n",
    "#loading sdtm ig\n",
    "ig_href = \"/mdr/sdtmig/3-4\"\n",
    "ig_label = \"SDTM IG\"\n",
    "sdtmig = cdiscapi.query(ig_href)\n",
    "sdtmig['href'] = ig_href\n",
    "mm.query(f\"MATCH (root:`{ig_label}`)-[*1..4]->(x) DETACH DELETE x, root\") #cleanup\n",
    "print(f\"Loading and unpacking {ig_href} into Neo4j with root node {ig_label}\")\n",
    "mm.load_dict(sdtmig, label=ig_label,  maxdepth=4)\n",
    "\n",
    "# #merging same things;\n",
    "# mm.query(\"MATCH (x:`SDTM Model`), (y) WHERE y:self or y:parentProduct call apoc.refactor.mergeNodes([x,y], {}) yield node RETURN node\")"
   ]
  },
  {
   "cell_type": "markdown",
   "id": "be39bd56",
   "metadata": {},
   "source": [
    "## Enriching model with parent classses (variables):"
   ]
  },
  {
   "cell_type": "code",
   "execution_count": 6,
   "id": "bd2f0b31",
   "metadata": {},
   "outputs": [
    {
     "data": {
      "text/plain": [
       "[]"
      ]
     },
     "execution_count": 6,
     "metadata": {},
     "output_type": "execute_result"
    }
   ],
   "source": [
    "mm.query(\"\"\"\n",
    "MATCH (c:Class), (cv:classVariables)\n",
    "WHERE c.short_label<>cv.name and cv.name contains (\"--\")\n",
    "and size(apoc.text.regexGroups(c.short_label, \"^\" + apoc.text.replace(cv.name,\"-\",\".\") + \"$\")) > 0\n",
    "MERGE (pc:Class{label:cv.label})\n",
    "SET pc.short_label = cv.name\n",
    "MERGE (c)-[:SUBCLASS_OF]->(pc)\n",
    "MERGE (pc)-[:PROVENANCE]->(cv)\n",
    "\"\"\")"
   ]
  },
  {
   "cell_type": "markdown",
   "id": "356d9b45",
   "metadata": {},
   "source": [
    "## Enriching model with parent classses (datasets):"
   ]
  },
  {
   "cell_type": "code",
   "execution_count": 7,
   "id": "9d278694",
   "metadata": {},
   "outputs": [
    {
     "data": {
      "text/plain": [
       "[]"
      ]
     },
     "execution_count": 7,
     "metadata": {},
     "output_type": "execute_result"
    }
   ],
   "source": [
    "mm.query(\"\"\"\n",
    "MATCH (c:Class), (ds:datasets)<-[:datasets]-(oc:classes) \n",
    "WHERE c.short_label = ds.name\n",
    "SET c.label = ds.label\n",
    "MERGE (pc:Class{label: oc.label, short_label:toUpper(oc.name)})\n",
    "MERGE (c)-[:SUBCLASS_OF]->(pc)\n",
    "MERGE (pc)-[:PROVENANCE]->(oc)\n",
    "\"\"\")"
   ]
  },
  {
   "cell_type": "markdown",
   "id": "77c78cd2",
   "metadata": {},
   "source": [
    "## Enriching model with long class labels:"
   ]
  },
  {
   "cell_type": "code",
   "execution_count": 8,
   "id": "9dc683b5",
   "metadata": {},
   "outputs": [
    {
     "data": {
      "text/plain": [
       "[]"
      ]
     },
     "execution_count": 8,
     "metadata": {},
     "output_type": "execute_result"
    }
   ],
   "source": [
    "\n",
    "res = mm.query(\"\"\"\n",
    "MATCH (c:Class), (dv:datasetVariables)\n",
    "WHERE c.short_label = dv.name\n",
    "WITH c, collect(distinct dv.label) as coll\n",
    "SET c.label = \n",
    "    CASE c.short_label\n",
    "        WHEN 'USUBJID' THEN 'Subject'\n",
    "        WHEN 'STUDYID' THEN 'Study'\n",
    "    ELSE\n",
    "        CASE WHEN size(coll) = 1 THEN \n",
    "            coll[0]\n",
    "        ELSE\n",
    "            'ERROR: >1 label exists: ' + apoc.text.join(coll, ', ')\n",
    "        END\n",
    "    END\n",
    "WITH *\n",
    "WHERE c.label starts with \"ERROR:\"\n",
    "RETURN *\n",
    "\"\"\")\n",
    "res"
   ]
  },
  {
   "cell_type": "markdown",
   "id": "dee15096",
   "metadata": {},
   "source": [
    "# Applying graph model on the data(reshaping)\n"
   ]
  },
  {
   "cell_type": "code",
   "execution_count": 9,
   "id": "d6c4e76d",
   "metadata": {},
   "outputs": [
    {
     "name": "stdout",
     "output_type": "stream",
     "text": [
      "---------------- Initializing NeoInterface -------------------\n",
      "Connection to bolt://localhost:27687 established\n",
      " ------------------ Deleting reshaped instances ------------------\n",
      "[[{'total': 0, 'batches': 1, 'failedBatches': 0, 'failedOperations': 0}], [{'total': 0, 'batches': 1, 'failedBatches': 0, 'failedOperations': 0}]]\n",
      " ------ Refactoring loaded data per graph class_ definition.  EXECUTING PART 1 --------- \n",
      " ------ Refactoring loaded data per graph class_ definition.  EXECUTING PART 2 --------- \n",
      "    LOOPING OVER  41  entries in helper list:\n",
      "--------------- Creating IS_A relationship ----------------------\n",
      "[[{'total': 7099, 'batches': 8, 'failedBatches': 0, 'failedOperations': 0}]]\n",
      "--------------- Linking classes ----------------------\n",
      "[[{'total': 15890, 'batches': 16, 'failedBatches': 12, 'failedOperations': 11890}], [{'total': 11890, 'batches': 12, 'failedBatches': 0, 'failedOperations': 0}]]\n",
      "[{'total': 0, 'batches': 1, 'failedBatches': 0, 'failedOperations': 0}]\n",
      "Reshaping done in: 33.16 seconds\n",
      "You may browse clinical data in a form of a graph using Neo4j Browser: bolt://localhost:27474\n"
     ]
    }
   ],
   "source": [
    "from model_appliers.model_applier import ModelApplier\n",
    "ma = ModelApplier(mode=\"schema_CLASS\")\n",
    "ma.delete_reshaped(batch_size=10000) #deleting reshaped data in case it was reshaped previously\n",
    "\n",
    "start_time = time.time()\n",
    "ma.reshape_all()\n",
    "print(\n",
    "    f\"Reshaping done in: {(time.time() - start_time):.2f} seconds\\n\"\n",
    "    f\"You may browse clinical data in a form of a graph using Neo4j Browser\"\n",
    "    f\": {os.getenv('NEO4J_HOST').replace('neo4j', 'http').replace('7687','7474')}\"\n",
    ")"
   ]
  },
  {
   "cell_type": "markdown",
   "id": "54a28f25",
   "metadata": {},
   "source": [
    "# Clean-up"
   ]
  },
  {
   "cell_type": "code",
   "execution_count": 10,
   "id": "d83e0154",
   "metadata": {},
   "outputs": [
    {
     "name": "stdout",
     "output_type": "stream",
     "text": [
      "Copying Relationships to 'parent' Classes where (child)-[:SUBCLASS_OF]->(parent)\n",
      "Removing auxilary term labels\n",
      "Done\n"
     ]
    }
   ],
   "source": [
    "# #In order to enable Methods to work with already existing Relationships (btw parent and a child's neighbour)\n",
    "# #created during refactoring, we explicitly create Relationship nodes\n",
    "mm.propagate_rels_to_parent_class()\n",
    "# labels from the domains that were not loaded may be confusing\n",
    "print(\"Removing auxilary term labels\")\n",
    "mm.remove_auxilary_term_labels()\n",
    "print(\"Done\")"
   ]
  },
  {
   "cell_type": "markdown",
   "id": "fbc17478",
   "metadata": {},
   "source": [
    "# Checking reshaping worked as expected\n",
    "Not that the data is in the form of a graph we can further use CLD modules to wrangle and query it.  \n",
    "DataProvider enables a python interface to query the data from the model without a need to write Cypher queries:"
   ]
  },
  {
   "cell_type": "code",
   "execution_count": 11,
   "id": "5c7208bc",
   "metadata": {},
   "outputs": [
    {
     "name": "stdout",
     "output_type": "stream",
     "text": [
      "---------------- Initializing NeoInterface -------------------\n",
      "Connection to bolt://localhost:27687 established\n",
      "---------------- <class 'model_managers.model_manager.ModelManager'> initialized -------------------\n",
      "---------------- Initializing NeoInterface -------------------\n",
      "Connection to bolt://localhost:27687 established\n",
      "---------------- <class 'data_providers.data_provider.DataProvider'> initialized -------------------\n"
     ]
    },
    {
     "name": "stderr",
     "output_type": "stream",
     "text": [
      "\u001b[37m2022-12-18 13:03:23,594    cld    INFO    QUERY: MATCH (`DS`:`Disposition`),\n",
      "(`USUBJID`:`Subject`),\n",
      "(`--DECOD`:`Dictionary-Derived Term`),\n",
      "(`--STDTC`:`Start Date/Time of Observation`),\n",
      "(`DS`)-[`DS_DSDECOD_--DECOD`:`DSDECOD`]->(`--DECOD`),\n",
      "(`DS`)-[`DS_DSSTDTC_--STDTC`:`DSSTDTC`]->(`--STDTC`),\n",
      "(`DS`)-[`DS_USUBJID_USUBJID`:`USUBJID`]->(`USUBJID`)\n",
      "WHERE `--DECOD`.`rdfs:label` = $par_1\n",
      "\n",
      "\n",
      "RETURN apoc.map.mergeList([apoc.map.fromPairs([key in keys(CASE WHEN `USUBJID`{.*} IS NULL THEN {} ELSE `USUBJID`{.*} END) | [\"USUBJID\", CASE WHEN `USUBJID`{.*} IS NULL THEN {} ELSE `USUBJID`{.*} END[key]]])\n",
      ", apoc.map.fromPairs([key in keys(CASE WHEN `DS`{.*} IS NULL THEN {} ELSE `DS`{.*} END) | [\"DS\", CASE WHEN `DS`{.*} IS NULL THEN {} ELSE `DS`{.*} END[key]]])\n",
      ", apoc.map.fromPairs([key in keys(CASE WHEN `--DECOD`{.*} IS NULL THEN {} ELSE `--DECOD`{.*} END) | [\"--DECOD\", CASE WHEN `--DECOD`{.*} IS NULL THEN {} ELSE `--DECOD`{.*} END[key]]])\n",
      ", apoc.map.fromPairs([key in keys(CASE WHEN `--STDTC`{.*} IS NULL THEN {} ELSE `--STDTC`{.*} END) | [\"--STDTC\", CASE WHEN `--STDTC`{.*} IS NULL THEN {} ELSE `--STDTC`{.*} END[key]]])]) as all\u001b[0m\n",
      "\u001b[37m2022-12-18 13:03:23,598    cld    INFO    PARAMS: {'par_1': 'COMPLETED'}\u001b[0m\n"
     ]
    },
    {
     "data": {
      "text/html": [
       "<div>\n",
       "<style scoped>\n",
       "    .dataframe tbody tr th:only-of-type {\n",
       "        vertical-align: middle;\n",
       "    }\n",
       "\n",
       "    .dataframe tbody tr th {\n",
       "        vertical-align: top;\n",
       "    }\n",
       "\n",
       "    .dataframe thead th {\n",
       "        text-align: right;\n",
       "    }\n",
       "</style>\n",
       "<table border=\"1\" class=\"dataframe\">\n",
       "  <thead>\n",
       "    <tr style=\"text-align: right;\">\n",
       "      <th></th>\n",
       "      <th>--DECOD</th>\n",
       "      <th>--STDTC</th>\n",
       "      <th>USUBJID</th>\n",
       "    </tr>\n",
       "  </thead>\n",
       "  <tbody>\n",
       "    <tr>\n",
       "      <th>0</th>\n",
       "      <td>COMPLETED</td>\n",
       "      <td>2014-07-02</td>\n",
       "      <td>01-701-1015</td>\n",
       "    </tr>\n",
       "    <tr>\n",
       "      <th>1</th>\n",
       "      <td>COMPLETED</td>\n",
       "      <td>2014-01-14</td>\n",
       "      <td>01-701-1028</td>\n",
       "    </tr>\n",
       "    <tr>\n",
       "      <th>2</th>\n",
       "      <td>COMPLETED</td>\n",
       "      <td>2014-12-30</td>\n",
       "      <td>01-701-1034</td>\n",
       "    </tr>\n",
       "    <tr>\n",
       "      <th>3</th>\n",
       "      <td>COMPLETED</td>\n",
       "      <td>2014-07-09</td>\n",
       "      <td>01-701-1097</td>\n",
       "    </tr>\n",
       "    <tr>\n",
       "      <th>4</th>\n",
       "      <td>COMPLETED</td>\n",
       "      <td>2014-09-09</td>\n",
       "      <td>01-701-1118</td>\n",
       "    </tr>\n",
       "    <tr>\n",
       "      <th>...</th>\n",
       "      <td>...</td>\n",
       "      <td>...</td>\n",
       "      <td>...</td>\n",
       "    </tr>\n",
       "    <tr>\n",
       "      <th>105</th>\n",
       "      <td>COMPLETED</td>\n",
       "      <td>2014-03-04</td>\n",
       "      <td>01-717-1446</td>\n",
       "    </tr>\n",
       "    <tr>\n",
       "      <th>106</th>\n",
       "      <td>COMPLETED</td>\n",
       "      <td>2013-11-17</td>\n",
       "      <td>01-718-1139</td>\n",
       "    </tr>\n",
       "    <tr>\n",
       "      <th>107</th>\n",
       "      <td>COMPLETED</td>\n",
       "      <td>2013-07-31</td>\n",
       "      <td>01-718-1150</td>\n",
       "    </tr>\n",
       "    <tr>\n",
       "      <th>108</th>\n",
       "      <td>COMPLETED</td>\n",
       "      <td>2014-01-09</td>\n",
       "      <td>01-718-1254</td>\n",
       "    </tr>\n",
       "    <tr>\n",
       "      <th>109</th>\n",
       "      <td>COMPLETED</td>\n",
       "      <td>2013-08-29</td>\n",
       "      <td>01-718-1355</td>\n",
       "    </tr>\n",
       "  </tbody>\n",
       "</table>\n",
       "<p>110 rows × 3 columns</p>\n",
       "</div>"
      ],
      "text/plain": [
       "       --DECOD     --STDTC      USUBJID\n",
       "0    COMPLETED  2014-07-02  01-701-1015\n",
       "1    COMPLETED  2014-01-14  01-701-1028\n",
       "2    COMPLETED  2014-12-30  01-701-1034\n",
       "3    COMPLETED  2014-07-09  01-701-1097\n",
       "4    COMPLETED  2014-09-09  01-701-1118\n",
       "..         ...         ...          ...\n",
       "105  COMPLETED  2014-03-04  01-717-1446\n",
       "106  COMPLETED  2013-11-17  01-718-1139\n",
       "107  COMPLETED  2013-07-31  01-718-1150\n",
       "108  COMPLETED  2014-01-09  01-718-1254\n",
       "109  COMPLETED  2013-08-29  01-718-1355\n",
       "\n",
       "[110 rows x 3 columns]"
      ]
     },
     "execution_count": 11,
     "metadata": {},
     "output_type": "execute_result"
    }
   ],
   "source": [
    "from data_providers.data_provider import DataProvider\n",
    "dp = DataProvider()\n",
    "df = dp.get_data_generic(\n",
    "    labels=['Subject', 'Disposition', 'Dictionary-Derived Term', 'Start Date/Time of Observation'], #entities\n",
    "    where_map={'Dictionary-Derived Term': {'rdfs:label':'COMPLETED'}}, #where condition\n",
    "    infer_rels=True,\n",
    "    return_nodeid=False,\n",
    "    use_shortlabel=True,\n",
    "    use_rel_labels=True,\n",
    "    return_propname=False\n",
    ")\n",
    "assert not(df.empty)\n",
    "df"
   ]
  }
 ],
 "metadata": {
  "kernelspec": {
   "display_name": "Python 3 (ipykernel)",
   "language": "python",
   "name": "python3"
  },
  "language_info": {
   "codemirror_mode": {
    "name": "ipython",
    "version": 3
   },
   "file_extension": ".py",
   "mimetype": "text/x-python",
   "name": "python",
   "nbconvert_exporter": "python",
   "pygments_lexer": "ipython3",
   "version": "3.8.15"
  }
 },
 "nbformat": 4,
 "nbformat_minor": 5
}
